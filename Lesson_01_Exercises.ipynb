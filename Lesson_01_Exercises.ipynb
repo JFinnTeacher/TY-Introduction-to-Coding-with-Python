{
  "nbformat": 4,
  "nbformat_minor": 0,
  "metadata": {
    "colab": {
      "provenance": [],
      "toc_visible": true,
      "authorship_tag": "ABX9TyM0wNmD6zZehwBxl4iVfTeS",
      "include_colab_link": true
    },
    "kernelspec": {
      "name": "python3",
      "display_name": "Python 3"
    },
    "language_info": {
      "name": "python"
    }
  },
  "cells": [
    {
      "cell_type": "markdown",
      "metadata": {
        "id": "view-in-github",
        "colab_type": "text"
      },
      "source": [
        "<a href=\"https://colab.research.google.com/github/finnwood/TY-Introduction-to-Coding-with-Python/blob/main/Lesson_01_Exercises.ipynb\" target=\"_parent\"><img src=\"https://colab.research.google.com/assets/colab-badge.svg\" alt=\"Open In Colab\"/></a>"
      ]
    },
    {
      "cell_type": "markdown",
      "source": [
        "# Lesson 01 - Introduction to Python"
      ],
      "metadata": {
        "id": "OihsLMcP2TLH"
      }
    },
    {
      "cell_type": "markdown",
      "source": [
        "# Exercise 01\n",
        "## Task 01\n",
        "Using one print function, produce this output\n",
        "\n",
        "```\n",
        "Hello world.\n",
        "```"
      ],
      "metadata": {
        "id": "qM-Pw2qH2faS"
      }
    },
    {
      "cell_type": "code",
      "execution_count": 1,
      "metadata": {
        "colab": {
          "base_uri": "https://localhost:8080/"
        },
        "id": "rL4EElTi1yfb",
        "outputId": "915050d8-515f-43d3-c58a-ffb1b2ce3ea7"
      },
      "outputs": [
        {
          "output_type": "stream",
          "name": "stdout",
          "text": [
            "Hello World\n"
          ]
        }
      ],
      "source": [
        "print(\"Hello World\")"
      ]
    }
  ]
}