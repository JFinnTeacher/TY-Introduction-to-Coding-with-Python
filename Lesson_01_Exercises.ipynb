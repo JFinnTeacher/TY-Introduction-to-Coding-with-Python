{
  "cells": [
    {
      "cell_type": "markdown",
      "metadata": {
        "id": "OihsLMcP2TLH"
      },
      "source": [
        "# Lesson 01 - Introduction to Python"
      ]
    },
    {
      "cell_type": "markdown",
      "metadata": {
        "id": "qM-Pw2qH2faS"
      },
      "source": [
        "# Exercise 01\n",
        "## Task 01\n",
        "Using one print function, produce this output\n",
        "\n",
        "```\n",
        "Hello world.\n",
        "```"
      ]
    },
    {
      "cell_type": "code",
      "execution_count": 1,
      "metadata": {
        "colab": {
          "base_uri": "https://localhost:8080/"
        },
        "id": "rL4EElTi1yfb",
        "outputId": "915050d8-515f-43d3-c58a-ffb1b2ce3ea7"
      },
      "outputs": [
        {
          "name": "stdout",
          "output_type": "stream",
          "text": [
            "Hello World\n"
          ]
        }
      ],
      "source": [
        "print(\"Hello World\")"
      ]
    }
  ],
  "metadata": {
    "colab": {
      "authorship_tag": "ABX9TyM0wNmD6zZehwBxl4iVfTeS",
      "include_colab_link": true,
      "provenance": [],
      "toc_visible": true
    },
    "kernelspec": {
      "display_name": "Python 3",
      "name": "python3"
    },
    "language_info": {
      "codemirror_mode": {
        "name": "ipython",
        "version": 3
      },
      "file_extension": ".py",
      "mimetype": "text/x-python",
      "name": "python",
      "nbconvert_exporter": "python",
      "pygments_lexer": "ipython3",
      "version": "3.9.13"
    }
  },
  "nbformat": 4,
  "nbformat_minor": 0
}
