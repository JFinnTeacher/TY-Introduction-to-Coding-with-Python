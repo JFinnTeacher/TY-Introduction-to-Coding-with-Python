{
  "cells": [
    {
      "cell_type": "markdown",
      "metadata": {
        "id": "418xwkKdlqhE"
      },
      "source": [
        "# Lesson 01 - Python"
      ]
    },
    {
      "cell_type": "markdown",
      "metadata": {
        "id": "Gzplra6wvS1N"
      },
      "source": [
        "## Exercise 01"
      ]
    },
    {
      "cell_type": "markdown",
      "metadata": {
        "id": "O20tSBWfvbo-"
      },
      "source": [
        "### Task 01\n",
        "Using the print command create this output\n",
        "```\n",
        "Hello World!\n",
        "```"
      ]
    },
    {
      "cell_type": "code",
      "execution_count": null,
      "metadata": {
        "id": "TyIUcNRTvotV"
      },
      "outputs": [],
      "source": [
        "print(\"Hello World\")"
      ]
    }
  ],
  "metadata": {
    "colab": {
      "provenance": []
    },
    "kernelspec": {
      "display_name": "Python 3",
      "name": "python3"
    },
    "language_info": {
      "codemirror_mode": {
        "name": "ipython",
        "version": 3
      },
      "file_extension": ".py",
      "mimetype": "text/x-python",
      "name": "python",
      "nbconvert_exporter": "python",
      "pygments_lexer": "ipython3",
      "version": "3.12.4"
    }
  },
  "nbformat": 4,
  "nbformat_minor": 0
}
