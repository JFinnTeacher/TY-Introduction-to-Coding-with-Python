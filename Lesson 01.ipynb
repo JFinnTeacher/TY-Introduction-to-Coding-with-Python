{
  "cells": [
    {
      "cell_type": "markdown",
      "metadata": {
        "id": "418xwkKdlqhE"
      },
      "source": [
        "# Lesson 01 - Python"
      ]
    },
    {
      "cell_type": "markdown",
      "metadata": {
        "id": "Gzplra6wvS1N"
      },
      "source": [
        "## Exercise 01"
      ]
    },
    {
      "cell_type": "markdown",
      "source": [
        "### Task 01\n",
        "Using the print command create this output\n",
        "```\n",
        "Hello World!\n",
        "```"
      ],
      "metadata": {
        "id": "O20tSBWfvbo-"
      }
    },
    {
      "cell_type": "code",
      "source": [],
      "metadata": {
        "id": "TyIUcNRTvotV"
      },
      "execution_count": null,
      "outputs": []
    }
  ],
  "metadata": {
    "colab": {
      "provenance": []
    },
    "kernelspec": {
      "display_name": "Python 3",
      "name": "python3"
    },
    "language_info": {
      "name": "python"
    }
  },
  "nbformat": 4,
  "nbformat_minor": 0
}